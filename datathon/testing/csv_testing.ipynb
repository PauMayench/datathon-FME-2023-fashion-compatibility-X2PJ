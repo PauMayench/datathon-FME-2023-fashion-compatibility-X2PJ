{
 "cells": [
  {
   "cell_type": "code",
   "execution_count": 1,
   "id": "bf36f9a3",
   "metadata": {},
   "outputs": [],
   "source": [
    "import pandas as pd"
   ]
  },
  {
   "cell_type": "code",
   "execution_count": 2,
   "id": "062f77a4",
   "metadata": {},
   "outputs": [],
   "source": [
    "base_path = \"/home/dev/Git/Hackatons/datathon-FME-2023-fashion-compatibility-X2PJ/datathon/dataset/\"\n",
    "product_data = pd.read_csv(base_path+\"product_data.csv\", sep=',', header=0)\n",
    "outfit_data = pd.read_csv(base_path+\"outfit_data.csv\", sep=',', header=0)"
   ]
  },
  {
   "cell_type": "code",
   "execution_count": 5,
   "id": "1e4188aa",
   "metadata": {},
   "outputs": [
    {
     "data": {
      "text/html": [
       "<div>\n",
       "<style scoped>\n",
       "    .dataframe tbody tr th:only-of-type {\n",
       "        vertical-align: middle;\n",
       "    }\n",
       "\n",
       "    .dataframe tbody tr th {\n",
       "        vertical-align: top;\n",
       "    }\n",
       "\n",
       "    .dataframe thead th {\n",
       "        text-align: right;\n",
       "    }\n",
       "</style>\n",
       "<table border=\"1\" class=\"dataframe\">\n",
       "  <thead>\n",
       "    <tr style=\"text-align: right;\">\n",
       "      <th></th>\n",
       "      <th>cod_modelo_color</th>\n",
       "      <th>cod_color_code</th>\n",
       "      <th>des_color_specification_esp</th>\n",
       "      <th>des_agrup_color_eng</th>\n",
       "      <th>des_sex</th>\n",
       "      <th>des_age</th>\n",
       "      <th>des_line</th>\n",
       "      <th>des_fabric</th>\n",
       "      <th>des_product_category</th>\n",
       "      <th>des_product_aggregated_family</th>\n",
       "      <th>des_product_family</th>\n",
       "      <th>des_product_type</th>\n",
       "      <th>des_filename</th>\n",
       "    </tr>\n",
       "  </thead>\n",
       "  <tbody>\n",
       "    <tr>\n",
       "      <th>0</th>\n",
       "      <td>41085800-02</td>\n",
       "      <td>02</td>\n",
       "      <td>OFFWHITE</td>\n",
       "      <td>WHITE</td>\n",
       "      <td>Female</td>\n",
       "      <td>Adult</td>\n",
       "      <td>SHE</td>\n",
       "      <td>P-PLANA</td>\n",
       "      <td>Bottoms</td>\n",
       "      <td>Trousers &amp; leggings</td>\n",
       "      <td>Trousers</td>\n",
       "      <td>Trousers</td>\n",
       "      <td>datathon/images/2019_41085800_02.jpg</td>\n",
       "    </tr>\n",
       "    <tr>\n",
       "      <th>1</th>\n",
       "      <td>53000586-TO</td>\n",
       "      <td>TO</td>\n",
       "      <td>TEJANO OSCURO</td>\n",
       "      <td>BLUE</td>\n",
       "      <td>Female</td>\n",
       "      <td>Adult</td>\n",
       "      <td>SHE</td>\n",
       "      <td>J-JEANS</td>\n",
       "      <td>Bottoms</td>\n",
       "      <td>Jeans</td>\n",
       "      <td>Jeans</td>\n",
       "      <td>Jeans</td>\n",
       "      <td>datathon/images/2019_53000586_TO.jpg</td>\n",
       "    </tr>\n",
       "    <tr>\n",
       "      <th>2</th>\n",
       "      <td>53030601-81</td>\n",
       "      <td>81</td>\n",
       "      <td>ROSA PASTEL</td>\n",
       "      <td>PINK</td>\n",
       "      <td>Female</td>\n",
       "      <td>Adult</td>\n",
       "      <td>SHE</td>\n",
       "      <td>P-PLANA</td>\n",
       "      <td>Dresses, jumpsuits and Complete set</td>\n",
       "      <td>Dresses and jumpsuits</td>\n",
       "      <td>Dresses</td>\n",
       "      <td>Dress</td>\n",
       "      <td>datathon/images/2019_53030601_81.jpg</td>\n",
       "    </tr>\n",
       "  </tbody>\n",
       "</table>\n",
       "</div>"
      ],
      "text/plain": [
       "  cod_modelo_color cod_color_code des_color_specification_esp  \\\n",
       "0      41085800-02             02                    OFFWHITE   \n",
       "1      53000586-TO             TO               TEJANO OSCURO   \n",
       "2      53030601-81             81                 ROSA PASTEL   \n",
       "\n",
       "  des_agrup_color_eng des_sex des_age des_line des_fabric  \\\n",
       "0               WHITE  Female   Adult      SHE    P-PLANA   \n",
       "1                BLUE  Female   Adult      SHE    J-JEANS   \n",
       "2                PINK  Female   Adult      SHE    P-PLANA   \n",
       "\n",
       "                  des_product_category des_product_aggregated_family  \\\n",
       "0                              Bottoms           Trousers & leggings   \n",
       "1                              Bottoms                         Jeans   \n",
       "2  Dresses, jumpsuits and Complete set         Dresses and jumpsuits   \n",
       "\n",
       "  des_product_family des_product_type                          des_filename  \n",
       "0           Trousers         Trousers  datathon/images/2019_41085800_02.jpg  \n",
       "1              Jeans            Jeans  datathon/images/2019_53000586_TO.jpg  \n",
       "2            Dresses            Dress  datathon/images/2019_53030601_81.jpg  "
      ]
     },
     "execution_count": 5,
     "metadata": {},
     "output_type": "execute_result"
    }
   ],
   "source": [
    "product_data.head(3)"
   ]
  },
  {
   "cell_type": "code",
   "execution_count": 6,
   "id": "e8f7d4c2",
   "metadata": {},
   "outputs": [
    {
     "data": {
      "text/html": [
       "<div>\n",
       "<style scoped>\n",
       "    .dataframe tbody tr th:only-of-type {\n",
       "        vertical-align: middle;\n",
       "    }\n",
       "\n",
       "    .dataframe tbody tr th {\n",
       "        vertical-align: top;\n",
       "    }\n",
       "\n",
       "    .dataframe thead th {\n",
       "        text-align: right;\n",
       "    }\n",
       "</style>\n",
       "<table border=\"1\" class=\"dataframe\">\n",
       "  <thead>\n",
       "    <tr style=\"text-align: right;\">\n",
       "      <th></th>\n",
       "      <th>cod_outfit</th>\n",
       "      <th>cod_modelo_color</th>\n",
       "    </tr>\n",
       "  </thead>\n",
       "  <tbody>\n",
       "    <tr>\n",
       "      <th>0</th>\n",
       "      <td>1</td>\n",
       "      <td>51000622-02</td>\n",
       "    </tr>\n",
       "    <tr>\n",
       "      <th>1</th>\n",
       "      <td>1</td>\n",
       "      <td>43067759-01</td>\n",
       "    </tr>\n",
       "    <tr>\n",
       "      <th>2</th>\n",
       "      <td>1</td>\n",
       "      <td>53060518-02</td>\n",
       "    </tr>\n",
       "  </tbody>\n",
       "</table>\n",
       "</div>"
      ],
      "text/plain": [
       "   cod_outfit cod_modelo_color\n",
       "0           1      51000622-02\n",
       "1           1      43067759-01\n",
       "2           1      53060518-02"
      ]
     },
     "execution_count": 6,
     "metadata": {},
     "output_type": "execute_result"
    }
   ],
   "source": [
    "outfit_data.head(3)"
   ]
  },
  {
   "cell_type": "code",
   "execution_count": 27,
   "id": "420c2fcc",
   "metadata": {},
   "outputs": [],
   "source": [
    "# \"outfit_id\" = [num_prendas, [prenda1...prendaN]]\n",
    "n_prendas = {}\n",
    "\n",
    "for index, row in outfit_data.iterrows():\n",
    "    outfit_id = row['cod_outfit']\n",
    "    if outfit_id not in n_prendas:\n",
    "        n_prendas[outfit_id] = 1\n",
    "        # n_prendas[outfit_id] = [1, [row['cod_modelo_color']]]\n",
    "    else:\n",
    "        n_prendas[outfit_id] += 1\n",
    "        # n_prendas[outfit_id][0] += 1\n",
    "        # n_prendas[outfit_id][1].append(row['cod_modelo_color'])"
   ]
  },
  {
   "cell_type": "code",
   "execution_count": 30,
   "id": "edf29c48",
   "metadata": {},
   "outputs": [
    {
     "data": {
      "text/plain": [
       "15"
      ]
     },
     "execution_count": 30,
     "metadata": {},
     "output_type": "execute_result"
    }
   ],
   "source": [
    "max_n_prendas = max(n_prendas.values())\n",
    "max_n_prendas"
   ]
  },
  {
   "cell_type": "code",
   "execution_count": 28,
   "id": "d7ebac0c",
   "metadata": {},
   "outputs": [
    {
     "data": {
      "text/plain": [
       "7842"
      ]
     },
     "execution_count": 28,
     "metadata": {},
     "output_type": "execute_result"
    }
   ],
   "source": [
    "max_outfit = max(n_prendas.keys())\n",
    "max_outfit"
   ]
  },
  {
   "cell_type": "code",
   "execution_count": 38,
   "id": "3b704a2e",
   "metadata": {},
   "outputs": [],
   "source": [
    "# des_product_category\n",
    "# des_product_aggregated_familyDecorDecor\n",
    "# des_product_family\n",
    "# des_product_type\n",
    "\n",
    "category_list = []\n",
    "aggregated_family_list = []\n",
    "family_list = []\n",
    "type_list = []\n",
    "\n",
    "for index, row in product_data.iterrows():\n",
    "    \n",
    "    if row['des_product_category'] not in category_list:\n",
    "        category_list.append(row['des_product_category'])\n",
    "        \n",
    "    if row['des_product_aggregated_family'] not in aggregated_family_list:\n",
    "        aggregated_family_list.append(row['des_product_aggregated_family'])\n",
    "        \n",
    "    if row['des_product_family'] not in family_list:\n",
    "        family_list.append(row['des_product_family'])\n",
    "        \n",
    "    if row['des_product_type'] not in type_list:\n",
    "        type_list.append(row['des_product_type'])"
   ]
  },
  {
   "cell_type": "code",
   "execution_count": 39,
   "id": "3592db46",
   "metadata": {
    "scrolled": true
   },
   "outputs": [
    {
     "data": {
      "text/plain": [
       "['Bottoms',\n",
       " 'Dresses, jumpsuits and Complete set',\n",
       " 'Tops',\n",
       " 'Accesories, Swim and Intimate',\n",
       " 'Outerwear',\n",
       " 'Beauty',\n",
       " 'Home']"
      ]
     },
     "execution_count": 39,
     "metadata": {},
     "output_type": "execute_result"
    }
   ],
   "source": [
    "category_list"
   ]
  },
  {
   "cell_type": "code",
   "execution_count": 40,
   "id": "997d4250",
   "metadata": {
    "scrolled": true
   },
   "outputs": [
    {
     "data": {
      "text/plain": [
       "['Trousers & leggings',\n",
       " 'Jeans',\n",
       " 'Dresses and jumpsuits',\n",
       " 'Shirts',\n",
       " 'Sweaters and Cardigans',\n",
       " 'Skirts and shorts',\n",
       " 'Accessories',\n",
       " 'Tops',\n",
       " 'Jackets and Blazers',\n",
       " 'Coats and Parkas',\n",
       " 'T-shirts',\n",
       " 'Swim and intimate',\n",
       " 'Fragance',\n",
       " 'Decor',\n",
       " 'Bedroom',\n",
       " 'Dinning Room']"
      ]
     },
     "execution_count": 40,
     "metadata": {},
     "output_type": "execute_result"
    }
   ],
   "source": [
    "aggregated_family_list"
   ]
  },
  {
   "cell_type": "code",
   "execution_count": 41,
   "id": "583b483e",
   "metadata": {
    "scrolled": true
   },
   "outputs": [
    {
     "data": {
      "text/plain": [
       "['Trousers',\n",
       " 'Jeans',\n",
       " 'Dresses',\n",
       " 'Shirt',\n",
       " 'Sweater',\n",
       " 'Skirts',\n",
       " 'Jewellery',\n",
       " 'Bags',\n",
       " 'Glasses',\n",
       " 'Wallets & cases',\n",
       " 'Shorts',\n",
       " 'Tops',\n",
       " 'Belts and Ties',\n",
       " 'Jumpsuit',\n",
       " 'Jackets',\n",
       " 'Coats',\n",
       " 'Footwear',\n",
       " 'Hats, scarves and gloves',\n",
       " 'T-shirt',\n",
       " 'Blazers',\n",
       " 'Gadgets',\n",
       " 'Swimwear',\n",
       " 'Vest',\n",
       " 'Fragances',\n",
       " 'Cardigans',\n",
       " 'Trenchcoats',\n",
       " 'Puffer coats',\n",
       " 'Outer Vest',\n",
       " 'Leggings and joggers',\n",
       " 'Deco Accessories',\n",
       " 'Poloshirts',\n",
       " 'Intimate',\n",
       " 'Sweatshirts',\n",
       " 'Deco Textiles',\n",
       " 'Bedding',\n",
       " 'Bodysuits',\n",
       " 'Leather jackets',\n",
       " 'Parkas',\n",
       " 'Glassware']"
      ]
     },
     "execution_count": 41,
     "metadata": {},
     "output_type": "execute_result"
    }
   ],
   "source": [
    "family_list"
   ]
  },
  {
   "cell_type": "code",
   "execution_count": 46,
   "id": "30006953",
   "metadata": {
    "scrolled": true
   },
   "outputs": [
    {
     "data": {
      "text/plain": [
       "['Trousers',\n",
       " 'Jeans',\n",
       " 'Dress',\n",
       " 'Shirt',\n",
       " 'Sweater',\n",
       " 'Skirt',\n",
       " 'Earrings',\n",
       " 'Totes bag',\n",
       " 'Sunglasses',\n",
       " 'Card holder',\n",
       " 'Wallet',\n",
       " 'Shorts',\n",
       " 'Top',\n",
       " 'Belt',\n",
       " 'Crossbody bag',\n",
       " 'Jumpsuit',\n",
       " 'Jacket',\n",
       " 'Coat',\n",
       " 'Sandals',\n",
       " 'Kerchief',\n",
       " 'Shoes',\n",
       " 'Blouse',\n",
       " 'T-Shirt',\n",
       " 'Blazer',\n",
       " 'Umbrella',\n",
       " 'Citybag',\n",
       " 'Bikini top',\n",
       " 'Vest',\n",
       " 'Shoulder bag',\n",
       " 'Bodymist',\n",
       " 'Beanie',\n",
       " 'Handbag',\n",
       " 'Cardigan',\n",
       " 'Glasses',\n",
       " 'Trenchcoat',\n",
       " 'Puffer coat',\n",
       " 'Necklace',\n",
       " 'Bikini pantie',\n",
       " 'Outer vest',\n",
       " 'Scarf',\n",
       " 'Ankle Boots',\n",
       " 'Leggings',\n",
       " 'Basket',\n",
       " 'Cosmetic bag',\n",
       " 'Ring',\n",
       " 'Poloshirt',\n",
       " 'Pyjama',\n",
       " 'Sweatshirt',\n",
       " 'Plaid',\n",
       " 'Boots',\n",
       " 'Hat',\n",
       " 'Duvet Covers',\n",
       " 'Beach Towel',\n",
       " 'Gloves',\n",
       " 'Bodysuit',\n",
       " 'Fragance',\n",
       " 'Leather Jacket',\n",
       " 'Hairband',\n",
       " 'Bermudas',\n",
       " 'Cap',\n",
       " 'Parka',\n",
       " 'Pyjama Trousers',\n",
       " 'Pyjama Shirt',\n",
       " 'Bras',\n",
       " 'Trainers',\n",
       " 'Foulard',\n",
       " 'Hairclip',\n",
       " 'Case',\n",
       " 'Bracelet',\n",
       " 'Pyjama Shorts',\n",
       " 'Sweater Vest',\n",
       " 'Pyjiama Sweater',\n",
       " 'Bucket bag',\n",
       " 'Jacket (Cazadora)',\n",
       " 'Purse',\n",
       " 'Belt bag',\n",
       " 'Sock (Pack)',\n",
       " 'Pillow Case',\n",
       " 'Socks',\n",
       " 'Swimsuit',\n",
       " 'Knicker',\n",
       " 'Overshirt',\n",
       " 'Overall',\n",
       " 'Cushion Case',\n",
       " 'Cardigan Vest',\n",
       " 'Mini Bag',\n",
       " 'Tumblers',\n",
       " 'Carpet Yarn',\n",
       " 'Pyjama T-Shirt',\n",
       " 'Jug',\n",
       " 'Tights',\n",
       " 'Gadget',\n",
       " 'Poncho',\n",
       " 'Shape',\n",
       " 'Clutch and Pochettes',\n",
       " 'Headband',\n",
       " 'Dressing Gown (Bata)',\n",
       " 'Home Spray',\n",
       " 'Curtain',\n",
       " 'Joggers',\n",
       " 'Backpack',\n",
       " 'Candle',\n",
       " 'Cape',\n",
       " 'Kaftan',\n",
       " 'Pyjama Top',\n",
       " 'Pyjama Sweatshirt',\n",
       " 'Nightgown',\n",
       " 'Skort',\n",
       " 'Tie',\n",
       " 'Keyring',\n",
       " 'Box',\n",
       " 'Glasses case',\n",
       " 'Turban',\n",
       " 'Pichi',\n",
       " 'Braces',\n",
       " 'Bedspread',\n",
       " 'Slippers',\n",
       " 'Quilt',\n",
       " 'Bed Cushion Case',\n",
       " 'Pyjama Cardigan',\n",
       " 'Candle Holder',\n",
       " 'Organiser',\n",
       " 'Clogs']"
      ]
     },
     "execution_count": 46,
     "metadata": {},
     "output_type": "execute_result"
    }
   ],
   "source": [
    "type_list"
   ]
  }
 ],
 "metadata": {
  "kernelspec": {
   "display_name": "Python 3 (ipykernel)",
   "language": "python",
   "name": "python3"
  },
  "language_info": {
   "codemirror_mode": {
    "name": "ipython",
    "version": 3
   },
   "file_extension": ".py",
   "mimetype": "text/x-python",
   "name": "python",
   "nbconvert_exporter": "python",
   "pygments_lexer": "ipython3",
   "version": "3.11.5"
  }
 },
 "nbformat": 4,
 "nbformat_minor": 5
}
